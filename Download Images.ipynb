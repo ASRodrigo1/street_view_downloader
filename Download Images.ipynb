{
 "cells": [
  {
   "cell_type": "code",
   "execution_count": 1,
   "id": "f476b90f",
   "metadata": {},
   "outputs": [],
   "source": [
    "%matplotlib inline"
   ]
  },
  {
   "cell_type": "code",
   "execution_count": 2,
   "id": "cf829668",
   "metadata": {},
   "outputs": [],
   "source": [
    "import matplotlib.pyplot as plt\n",
    "import streetview # Thanks to https://github.com/cplusx/google-street-view-panorama-download\n",
    "from skimage import io\n",
    "import numpy as np\n",
    "import os\n",
    "import cv2\n",
    "import pathlib"
   ]
  },
  {
   "cell_type": "code",
   "execution_count": 3,
   "id": "8bce8647",
   "metadata": {},
   "outputs": [],
   "source": [
    "# Go to https://map.project-osrm.org/\n",
    "# Draw your path and click the button: Export GPX file\n",
    "# Then, put your file path here\n",
    "file_path = \"./route.gpx\""
   ]
  },
  {
   "cell_type": "code",
   "execution_count": 4,
   "id": "2df60da4",
   "metadata": {},
   "outputs": [],
   "source": [
    "def get_lat_long(file_path: str) -> list:\n",
    "    \"\"\"Function to load the file and get latitudes and longitudes of the path\"\"\"\n",
    "    with open(file_path) as f:\n",
    "        content = f.readlines()[1]\n",
    "        content = content.split(\"<trkseg>\")[1]\n",
    "        content = content.split(\"</trkseg>\")[0]\n",
    "        lat_longs = []\n",
    "        for coords in content.split(\"lat\")[1:]:\n",
    "            lat, lon = coords.split(\" \")[0][1:], coords.split(\" \")[1][4:]\n",
    "            lon = lon[:lon.find(\"/\")]\n",
    "            lat, lon = eval(lat), eval(lon)\n",
    "            lat_longs.append((float(lat), float(lon)))\n",
    "    return lat_longs\n",
    "\n",
    "def check_path(path: str):\n",
    "    \"\"\"Make sure a path exists\"\"\"\n",
    "    path = pathlib.Path(path)\n",
    "    if not path.exists():\n",
    "        path.mkdir(parents=True)\n",
    "\n",
    "def download_images(coords: list, \n",
    "                    show_img: bool=True, \n",
    "                    img_dir: str='', \n",
    "                    video_dir: str='') -> None:\n",
    "    \"\"\"Function to download panorama images from coordinates list\"\"\"\n",
    "    if img_dir:\n",
    "        img_cnt = 0\n",
    "        check_path(img_dir)\n",
    "        \n",
    "    if video_dir:\n",
    "        check_path(video_dir)\n",
    "    \n",
    "    for lat, lon in coords:\n",
    "        print(f\"Downloading now lat={lat}, lon={lon}\")\n",
    "        panoids = streetview.panoids(lat=lat, lon=lon)\n",
    "        panoid = panoids[0]['panoid']\n",
    "        panorama = streetview.download_panorama_v3(panoid, zoom=3, disp=False)\n",
    "        \n",
    "        if show_img:\n",
    "            plt.figure(figsize=(15, 15))\n",
    "            plt.imshow(panorama)\n",
    "            plt.axis('off')\n",
    "            plt.show()\n",
    "        \n",
    "        # Save img\n",
    "        if img_dir:\n",
    "            # file name format: img_number_latitude_longitude.png\n",
    "            plt.imsave(f\"{img_dir}/img_{img_cnt}_{lat}_{lon}.jpg\", panorama)\n",
    "            img_cnt += 1\n",
    "        \n",
    "        # Save video\n",
    "        if video_dir:\n",
    "            if 'out' not in locals():\n",
    "                h, w, _ = panorama.shape\n",
    "                out = cv2.VideoWriter(f\"{video_dir}/output.avi\", cv2.VideoWriter_fourcc(*'XVID'), 5.0, (w, h))\n",
    "            \n",
    "            panorama = cv2.cvtColor(panorama, cv2.COLOR_RGB2BGR)\n",
    "            panorama = cv2.flip(panorama, 1)\n",
    "            out.write(panorama)\n",
    "    \n",
    "    if 'out' in locals():\n",
    "        out.release()"
   ]
  },
  {
   "cell_type": "code",
   "execution_count": null,
   "id": "cc9b4ef1",
   "metadata": {
    "scrolled": false
   },
   "outputs": [
    {
     "name": "stdout",
     "output_type": "stream",
     "text": [
      "Downloading now lat=-20.49676, lon=-54.6129\n",
      "Downloading now lat=-20.49826, lon=-54.6126\n",
      "Downloading now lat=-20.49828, lon=-54.6126\n",
      "Downloading now lat=-20.49841, lon=-54.61264\n",
      "Downloading now lat=-20.49841, lon=-54.61264\n",
      "Downloading now lat=-20.49845, lon=-54.61266\n",
      "Downloading now lat=-20.49848, lon=-54.61267\n",
      "Downloading now lat=-20.49852, lon=-54.61266\n",
      "Downloading now lat=-20.49855, lon=-54.61264\n",
      "Downloading now lat=-20.49858, lon=-54.61262\n",
      "Downloading now lat=-20.49858, lon=-54.61262\n",
      "Downloading now lat=-20.49865, lon=-54.61263\n",
      "Downloading now lat=-20.49869, lon=-54.61264\n",
      "Downloading now lat=-20.49872, lon=-54.61265\n",
      "Downloading now lat=-20.49961, lon=-54.61297\n",
      "Downloading now lat=-20.50007, lon=-54.61311\n",
      "Downloading now lat=-20.50057, lon=-54.61334\n",
      "Downloading now lat=-20.50076, lon=-54.61345\n",
      "Downloading now lat=-20.50097, lon=-54.61357\n",
      "Downloading now lat=-20.50125, lon=-54.61377\n",
      "Downloading now lat=-20.50142, lon=-54.61389\n",
      "Downloading now lat=-20.50163, lon=-54.61403\n",
      "Downloading now lat=-20.50181, lon=-54.61413\n",
      "Downloading now lat=-20.50199, lon=-54.6142\n",
      "Downloading now lat=-20.50212, lon=-54.61423\n",
      "Downloading now lat=-20.50223, lon=-54.61424\n",
      "Downloading now lat=-20.50242, lon=-54.61425\n",
      "Downloading now lat=-20.50256, lon=-54.61425\n",
      "Downloading now lat=-20.50263, lon=-54.61424\n",
      "Downloading now lat=-20.50291, lon=-54.61414\n",
      "Downloading now lat=-20.50318, lon=-54.61397\n",
      "Downloading now lat=-20.50335, lon=-54.61381\n",
      "Downloading now lat=-20.50347, lon=-54.61366\n",
      "Downloading now lat=-20.50351, lon=-54.61362\n",
      "Downloading now lat=-20.50356, lon=-54.61353\n"
     ]
    }
   ],
   "source": [
    "# Extract your coordinates from your file\n",
    "coords = get_lat_long(file_path)\n",
    "\n",
    "# Download panorama images from your coordinates\n",
    "download_images(coords, show_img=False, img_dir='./images/', video_dir='./video/')"
   ]
  },
  {
   "cell_type": "code",
   "execution_count": null,
   "id": "e9860a3d",
   "metadata": {},
   "outputs": [],
   "source": []
  }
 ],
 "metadata": {
  "kernelspec": {
   "display_name": "Python 3 (ipykernel)",
   "language": "python",
   "name": "python3"
  },
  "language_info": {
   "codemirror_mode": {
    "name": "ipython",
    "version": 3
   },
   "file_extension": ".py",
   "mimetype": "text/x-python",
   "name": "python",
   "nbconvert_exporter": "python",
   "pygments_lexer": "ipython3",
   "version": "3.8.0"
  }
 },
 "nbformat": 4,
 "nbformat_minor": 5
}
